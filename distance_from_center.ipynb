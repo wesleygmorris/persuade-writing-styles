{
 "cells": [
  {
   "cell_type": "code",
   "execution_count": 2,
   "metadata": {},
   "outputs": [],
   "source": [
    "import pandas as pd\n",
    "import numpy as np\n",
    "from sklearn.metrics.pairwise import cosine_similarity\n",
    "keys = pd.read_csv('../data/key_list.csv')\n",
    "df = pd.read_csv('../data/combined_results_four_clusters.csv')"
   ]
  },
  {
   "cell_type": "code",
   "execution_count": 29,
   "metadata": {},
   "outputs": [],
   "source": [
    "def get_distance(row, centroid):\n",
    "    return cosine_similarity(np.array(row).reshape(1, -1), centroid.reshape(1, -1))[0][0]\n",
    "\n",
    "def get_similar(cluster, num):\n",
    "    df_1 = df[df['cluster']==cluster]\n",
    "    essay_ids = df_1.pop('index_data$essay_id_comp')\n",
    "    centroid = np.array(df_1.mean()) \n",
    "    df_2 = df_1.copy()\n",
    "    distances = df_1.apply(lambda row: get_distance(row, centroid), axis=1)\n",
    "    df_2['distance'] = distances\n",
    "    df_2['id'] = essay_ids\n",
    "    most_similar = df_2[['id', 'distance']].sort_values('distance', ascending=False)['id'].iloc[2]\n",
    "    return keys[keys['essay_id_comp'] == most_similar]['full_text'].iloc[0]"
   ]
  },
  {
   "cell_type": "code",
   "execution_count": 34,
   "metadata": {},
   "outputs": [
    {
     "name": "stdout",
     "output_type": "stream",
     "text": [
      "NEWLINE\n",
      "People often question if they should ask multiple people for advice. This is usually from them being shy, or being afraid of judgment. You should ask multiple people for advice. Asking multiple people helps you to know the different opinions, see the similarities between the responses, see if anybody else has gone through the same thing, and the more opinions, the more advice. Getting different views on things does help you make a better decision, become more accurate, and get a better outcome.\n",
      "\n",
      "When you don't ask multiple people, you don't get as much knowledge as you would from asking different people. When you do get a lot of opinions you get to see the different results. Everybody has there own opinions, meaning we're going to believe what we think is best, but maybe not best for the future. So it is always good for us to ask multiple people. For example, say you where trying to write an essay for a college, and you where deciding on what you should write about. Now this college focuses on music, so your two choices for the essay are about a famous scientist, and a historic composer, but you couldn't decide which one you wanted to write about. So you go and ask your friends which one you should write about, and a few of them say scientist, but the majority of them say the composer. Now you have multiple opinions, plus your own opinion, which helps to know what you should write about. Now don't get me wrong seeking multiple opinions doesn't mean your always going to get what you want, but it does help you make a better decision.\n",
      "\n",
      "Different opinions also help you see the similarities and differences. To continue on with the example above, say you went with the Historic composer. Why did you choose this one? Besides the fact that it was obvious, probably because the majority of others chose this too. If only a few chose the other one then it's probably the weaker or less likely to get accepted, i'm not saying if you chose the other one you wouldn't get accepted, but you have a better chance with the one that most people would chose. Seeing what most people chose is probably going to be what most of the people grading youe essay will chose as the better essay.\n",
      "\n",
      "For the last reason of why you should seek different opinions is to know if anybody else has gone through what your going through now. A lot of people go through the same things that your are going through now.\n",
      "\n",
      "Knowing what they know ahead of time could help you to make a better decision before something happens. For example, say two people have already gone to the college that you want to go to. One of them got accepted into the college, while the other did not. You go to both of them for opinions. The one that didn't make it into the college, tells you that they didn't keep up with there work, and stay organized which is a big reason why they didn't get accepted. So you would most likely do what they didn't do because they weren't accepted. Next you go to the one that was accepted. They tell you to work hard, never give up, and keep studying. You listen to them too, and you do all of those things. Now you have a greater chance of getting accepted into the college, because you listened to more than one person, that had different views on the situation.\n",
      "\n",
      "Through all of this I think we can agree that seeking multiple opinions is the way to go. It helps you to make a better decision in so many ways. By getting more advice, or more knowledge, seeing different views, and knowing if somebody else has gone through it you can make a better decision and be more accurate. In my opinion you should get multiple different opinions, because it has helped me out a lot. Think about the future, and others opinion before you make that decision.\n",
      "NEWLINE\n",
      "People often question if they should ask multiple people for advice. This is usually from them being shy, or being afraid of judgment. You should ask multiple people for advice. Asking multiple people helps you to know the different opinions, see the similarities between the responses, see if anybody else has gone through the same thing, and the more opinions, the more advice. Getting different views on things does help you make a better decision, become more accurate, and get a better outcome.\n",
      "\n",
      "When you don't ask multiple people, you don't get as much knowledge as you would from asking different people. When you do get a lot of opinions you get to see the different results. Everybody has there own opinions, meaning we're going to believe what we think is best, but maybe not best for the future. So it is always good for us to ask multiple people. For example, say you where trying to write an essay for a college, and you where deciding on what you should write about. Now this college focuses on music, so your two choices for the essay are about a famous scientist, and a historic composer, but you couldn't decide which one you wanted to write about. So you go and ask your friends which one you should write about, and a few of them say scientist, but the majority of them say the composer. Now you have multiple opinions, plus your own opinion, which helps to know what you should write about. Now don't get me wrong seeking multiple opinions doesn't mean your always going to get what you want, but it does help you make a better decision.\n",
      "\n",
      "Different opinions also help you see the similarities and differences. To continue on with the example above, say you went with the Historic composer. Why did you choose this one? Besides the fact that it was obvious, probably because the majority of others chose this too. If only a few chose the other one then it's probably the weaker or less likely to get accepted, i'm not saying if you chose the other one you wouldn't get accepted, but you have a better chance with the one that most people would chose. Seeing what most people chose is probably going to be what most of the people grading youe essay will chose as the better essay.\n",
      "\n",
      "For the last reason of why you should seek different opinions is to know if anybody else has gone through what your going through now. A lot of people go through the same things that your are going through now.\n",
      "\n",
      "Knowing what they know ahead of time could help you to make a better decision before something happens. For example, say two people have already gone to the college that you want to go to. One of them got accepted into the college, while the other did not. You go to both of them for opinions. The one that didn't make it into the college, tells you that they didn't keep up with there work, and stay organized which is a big reason why they didn't get accepted. So you would most likely do what they didn't do because they weren't accepted. Next you go to the one that was accepted. They tell you to work hard, never give up, and keep studying. You listen to them too, and you do all of those things. Now you have a greater chance of getting accepted into the college, because you listened to more than one person, that had different views on the situation.\n",
      "\n",
      "Through all of this I think we can agree that seeking multiple opinions is the way to go. It helps you to make a better decision in so many ways. By getting more advice, or more knowledge, seeing different views, and knowing if somebody else has gone through it you can make a better decision and be more accurate. In my opinion you should get multiple different opinions, because it has helped me out a lot. Think about the future, and others opinion before you make that decision.\n",
      "NEWLINE\n",
      "People often question if they should ask multiple people for advice. This is usually from them being shy, or being afraid of judgment. You should ask multiple people for advice. Asking multiple people helps you to know the different opinions, see the similarities between the responses, see if anybody else has gone through the same thing, and the more opinions, the more advice. Getting different views on things does help you make a better decision, become more accurate, and get a better outcome.\n",
      "\n",
      "When you don't ask multiple people, you don't get as much knowledge as you would from asking different people. When you do get a lot of opinions you get to see the different results. Everybody has there own opinions, meaning we're going to believe what we think is best, but maybe not best for the future. So it is always good for us to ask multiple people. For example, say you where trying to write an essay for a college, and you where deciding on what you should write about. Now this college focuses on music, so your two choices for the essay are about a famous scientist, and a historic composer, but you couldn't decide which one you wanted to write about. So you go and ask your friends which one you should write about, and a few of them say scientist, but the majority of them say the composer. Now you have multiple opinions, plus your own opinion, which helps to know what you should write about. Now don't get me wrong seeking multiple opinions doesn't mean your always going to get what you want, but it does help you make a better decision.\n",
      "\n",
      "Different opinions also help you see the similarities and differences. To continue on with the example above, say you went with the Historic composer. Why did you choose this one? Besides the fact that it was obvious, probably because the majority of others chose this too. If only a few chose the other one then it's probably the weaker or less likely to get accepted, i'm not saying if you chose the other one you wouldn't get accepted, but you have a better chance with the one that most people would chose. Seeing what most people chose is probably going to be what most of the people grading youe essay will chose as the better essay.\n",
      "\n",
      "For the last reason of why you should seek different opinions is to know if anybody else has gone through what your going through now. A lot of people go through the same things that your are going through now.\n",
      "\n",
      "Knowing what they know ahead of time could help you to make a better decision before something happens. For example, say two people have already gone to the college that you want to go to. One of them got accepted into the college, while the other did not. You go to both of them for opinions. The one that didn't make it into the college, tells you that they didn't keep up with there work, and stay organized which is a big reason why they didn't get accepted. So you would most likely do what they didn't do because they weren't accepted. Next you go to the one that was accepted. They tell you to work hard, never give up, and keep studying. You listen to them too, and you do all of those things. Now you have a greater chance of getting accepted into the college, because you listened to more than one person, that had different views on the situation.\n",
      "\n",
      "Through all of this I think we can agree that seeking multiple opinions is the way to go. It helps you to make a better decision in so many ways. By getting more advice, or more knowledge, seeing different views, and knowing if somebody else has gone through it you can make a better decision and be more accurate. In my opinion you should get multiple different opinions, because it has helped me out a lot. Think about the future, and others opinion before you make that decision.\n"
     ]
    }
   ],
   "source": [
    "for i in range(3):\n",
    "    print('NEWLINE')\n",
    "    print(get_similar(4, i))"
   ]
  },
  {
   "cell_type": "code",
   "execution_count": 71,
   "metadata": {},
   "outputs": [],
   "source": []
  },
  {
   "cell_type": "code",
   "execution_count": 81,
   "metadata": {},
   "outputs": [],
   "source": []
  },
  {
   "cell_type": "code",
   "execution_count": 83,
   "metadata": {},
   "outputs": [
    {
     "data": {
      "text/plain": [
       "'Summer is a time for students to have fun and be able to relax without worrying about school work. However, some schools assign summer projects over the students break to make sure students are still learning throughout the year. A common question about these projects is who designes them. Should the teachers design them so that is stays on topic to what they need to learn, or should the Students themselves design the projects so that the projects are subjects that students are interested in. Student projects over summer break should be student designed because it gives students more freedom, allows students to do them in areas they have interests in, and allows students to create a type of project they are good at.\\n\\nA common arguement against student designed projects is that the student will not stay on topic and will go to far off topic. Meanwhile if a teacher were to assign a project they would make sure that the student did not go off topic and it would be relative to the subject. However, a student designed project has much more benefits than a teacher designed project. It also will give teachers more time to get ready for the next school year if they do not need to design all the students projects. Even though teacher designed projects would be more on topic than a student designed project, Student designed projects pros outweigh the cons and therefore students summer projects should be designed by students.\\n\\nStudent designed projects allow students to give themselves more freedom over the summer by being able to design your own projects. Students most likely do not like projects over the summer in the first place, but if the students design their own projects, they are able to choose to do the project how they would like to do it. If they were teacher designed projects then the students would not want to do them because they had no choice in picking what they were doing and will most likely not do it. Students want freedom, they dont want to be told what to do, if a schools were to give them teacher designed projects then students would not be as motivated to complete them as much as a student designed project. If it was a student designed project, students would also be able to choose a topic they like.\\n\\nStudents are not always interested in every subject at school, in fact, most students are really only interested in one or two subjects at school. If schools allowed students to design their own project then they would be able to make their project about a topic that interests them. If it were a teacher designed project then students would be forced to do a project on a topic that they might not intersted and not want to put a lot of effort into it. If it were a student designed project then they would be able to do a project on a topic that interests them and would be more passionate about the project and would put a lot more effort into it. Students would be much more motivated to complete their projects over the summer if they could design their own projects arounds topics they have interests in. Student designed projects also allow students to design a type of projct they are good at.\\n\\nNot all students are good at writing essays, not all students are good at using powerpoints. Every student is different with what they are comfortable using to create their projects and would prefer to choose how they can present their projects. If the summer projects were teacher designed, then students would not be able to choose how to do their projects. If the teachers decide that the project should be in a essay format, then some students would not be able to complete their project as well as the other students who are good at writing essays giving those students an unfair advantage. If the projects were student designed than each individual student would be able to choose their own project format that works best for them so that all students are on an equal level and no student is at a disadvantage. Allowing students to choose the format of their projects would also give students more motivation to complete the project and make it easier for them.\\n\\nOverall students would put much more effort and thought into the projects over summer break if they were allowed to design their own projects. Teacher designed projects would make students less motivated to work and would cause students to not do their projects. Student designed projects overall would make the students much more motivated to complete the projects over summer break. The projects that are assigned to students over summer break should be allowed to be designed by the students because it gives the students more freedom, allows the students to choose a topic they are interested in, and allows students to create a type of project they are good at.\\xa0'"
      ]
     },
     "execution_count": 83,
     "metadata": {},
     "output_type": "execute_result"
    }
   ],
   "source": [
    "\n"
   ]
  }
 ],
 "metadata": {
  "kernelspec": {
   "display_name": "ml",
   "language": "python",
   "name": "python3"
  },
  "language_info": {
   "codemirror_mode": {
    "name": "ipython",
    "version": 3
   },
   "file_extension": ".py",
   "mimetype": "text/x-python",
   "name": "python",
   "nbconvert_exporter": "python",
   "pygments_lexer": "ipython3",
   "version": "3.9.18"
  }
 },
 "nbformat": 4,
 "nbformat_minor": 2
}
